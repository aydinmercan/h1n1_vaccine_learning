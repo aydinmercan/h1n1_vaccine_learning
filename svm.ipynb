{
 "cells": [
  {
   "cell_type": "markdown",
   "metadata": {},
   "source": [
    "# Support Vector Machines\n",
    "\n",
    "Here we explore the usage of SVM"
   ]
  },
  {
   "cell_type": "code",
   "execution_count": null,
   "metadata": {},
   "outputs": [],
   "source": [
    "%matplotlib inline\n",
    "import numpy as np\n",
    "import matplotlib.pyplot as plt\n",
    "import pandas as pd"
   ]
  },
  {
   "cell_type": "code",
   "execution_count": null,
   "metadata": {},
   "outputs": [],
   "source": [
    "pd.options.display.max_rows = 4000\n",
    "pd.options.display.max_columns = 4000"
   ]
  },
  {
   "cell_type": "code",
   "execution_count": null,
   "metadata": {},
   "outputs": [],
   "source": [
    "from sklearn.model_selection import train_test_split\n",
    "raw_all_features_df = pd.read_csv(\"training_set_features.csv\", index_col=\"respondent_id\")\n",
    "all_labels_df = pd.read_csv(\"training_set_labels.csv\", index_col=\"respondent_id\")\n",
    "\n",
    "test_set_features_df = pd.read_csv(\"test_set_features.csv\", index_col=\"respondent_id\")\n",
    "\n",
    "submission_df = pd.read_csv(\"submission_format.csv\", index_col=\"respondent_id\")\n",
    "\n",
    "raw_train_features_df, raw_test_features_df, train_labels_df, test_labels_df = train_test_split(\n",
    "    raw_all_features_df,\n",
    "    all_labels_df,\n",
    "    test_size=0.33,\n",
    "    shuffle=True,\n",
    "    stratify=all_labels_df,\n",
    "    random_state=25519\n",
    ")\n",
    "\n",
    "raw_train_features_df"
   ]
  },
  {
   "cell_type": "code",
   "execution_count": null,
   "metadata": {},
   "outputs": [],
   "source": [
    "from sklearn.preprocessing import OneHotEncoder, OrdinalEncoder, StandardScaler\n",
    "def ordinalize(features: pd.DataFrame, raw: pd.DataFrame, name: str) -> pd.DataFrame:\n",
    "    ordinal_arr = OrdinalEncoder().fit_transform(raw[[name]])\n",
    "    \n",
    "    features.drop(name, axis=1)\n",
    "    features[name] = ordinal_arr\n",
    "    return features\n",
    "\n",
    "    \n",
    "def onehotize(features: pd.DataFrame, raw: pd.DataFrame, name: str) -> pd.DataFrame:\n",
    "    enc = OneHotEncoder(sparse=False)\n",
    "    onehot_df = pd.DataFrame(\n",
    "        enc.fit_transform(raw[name]),\n",
    "        columns=enc.get_feature_names_out(),\n",
    "    )\n",
    "    onehot_df.index = raw.index\n",
    "    return pd.concat(\n",
    "        [features.drop(name, axis=1), onehot_df],\n",
    "        axis=1,\n",
    "    )\n",
    "\n",
    "\n",
    "def normalize(in_df: pd.DataFrame) -> pd.DataFrame:\n",
    "    out_df = in_df\n",
    "    out_df = onehotize(out_df, in_df, [\"employment_industry\", \"employment_occupation\", \"race\", \"employment_status\", \"hhs_geo_region\", \"census_msa\"])\n",
    "    out_df = ordinalize(out_df, in_df, \"age_group\")\n",
    "    out_df = ordinalize(out_df, in_df, \"education\")\n",
    "    out_df = ordinalize(out_df, in_df, \"sex\")\n",
    "    out_df = ordinalize(out_df, in_df, \"income_poverty\")\n",
    "    out_df = ordinalize(out_df, in_df, \"marital_status\")\n",
    "    out_df = ordinalize(out_df, in_df, \"rent_or_own\")\n",
    "    # out_df = StandardScaler().fit_transform(out_df.fillna(out_df.mean()))\n",
    "    # return DBSCAN(eps=10).fit(out_df).labels_\n",
    "    return StandardScaler().fit_transform(out_df.fillna(out_df.mean()))\n",
    "\n",
    "train_features_df = normalize(raw_train_features_df)\n",
    "\n",
    "test_features_df = normalize(raw_test_features_df)\n",
    "\n",
    "train_features_df"
   ]
  },
  {
   "cell_type": "code",
   "execution_count": 34,
   "metadata": {},
   "outputs": [],
   "source": [
    "%%time\n",
    "from sklearn.svm import SVC\n",
    "from sklearn.cluster import DBSCAN\n",
    "from sklearn.multioutput import MultiOutputClassifier\n",
    "\n",
    "svclassifier = MultiOutputClassifier( SVC(random_state=31415, kernel='linear', probability=True))\n",
    "svclassifier.fit(train_features_df, train_labels_df)"
   ]
  },
  {
   "cell_type": "code",
   "execution_count": null,
   "metadata": {},
   "outputs": [],
   "source": [
    "preds = svclassifier.predict(test_features_df)\n",
    "\n",
    "preds_df = pd.DataFrame({\"h1h1_vaccine\": preds[:, 0], \"seasonal_vaccine\": preds[:, 1]}, index=test_labels_df.index)\n",
    "preds_df"
   ]
  },
  {
   "cell_type": "code",
   "execution_count": null,
   "metadata": {},
   "outputs": [],
   "source": [
    "from sklearn.metrics import roc_auc_score\n",
    "roc_auc_score(test_labels_df, preds_df)"
   ]
  }
 ],
 "metadata": {
  "interpreter": {
   "hash": "e7370f93d1d0cde622a1f8e1c04877d8463912d04d973331ad4851f04de6915a"
  },
  "kernelspec": {
   "display_name": "Python 3.9.7 64-bit",
   "language": "python",
   "name": "python3"
  },
  "language_info": {
   "codemirror_mode": {
    "name": "ipython",
    "version": 3
   },
   "file_extension": ".py",
   "mimetype": "text/x-python",
   "name": "python",
   "nbconvert_exporter": "python",
   "pygments_lexer": "ipython3",
   "version": "3.9.7"
  },
  "orig_nbformat": 4
 },
 "nbformat": 4,
 "nbformat_minor": 2
}

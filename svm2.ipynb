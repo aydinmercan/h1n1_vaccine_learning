{
 "cells": [
  {
   "cell_type": "code",
   "execution_count": null,
   "id": "2cbc06b0-7cc2-417a-bf87-05e2dfe8af49",
   "metadata": {},
   "outputs": [],
   "source": [
    "%matplotlib inline\n",
    "\n",
    "from datetime import datetime\n",
    "\n",
    "import pandas as pd\n",
    "import numpy as np\n",
    "import matplotlib.pyplot as plt\n",
    "\n",
    "from sklearn.compose import ColumnTransformer\n",
    "from sklearn.ensemble import RandomForestClassifier\n",
    "from sklearn.impute import SimpleImputer\n",
    "from sklearn.metrics import roc_auc_score\n",
    "from sklearn.model_selection import cross_val_score\n",
    "from sklearn.multioutput import MultiOutputClassifier\n",
    "from sklearn.pipeline import Pipeline\n",
    "from sklearn.preprocessing import OneHotEncoder, OrdinalEncoder"
   ]
  },
  {
   "cell_type": "code",
   "execution_count": null,
   "id": "b8aaec53-8fc2-4bee-b66c-d0acc06c01e1",
   "metadata": {},
   "outputs": [],
   "source": [
    "training_set_features_df = pd.read_csv(\"training_set_features.csv\", index_col=\"respondent_id\")\n",
    "training_set_labels_df = pd.read_csv(\"training_set_labels.csv\", index_col=\"respondent_id\")\n",
    "\n",
    "test_set_features_df = pd.read_csv(\"test_set_features.csv\", index_col=\"respondent_id\")\n",
    "\n",
    "submission_df = pd.read_csv(\"submission_format.csv\", index_col=\"respondent_id\")\n",
    "\n",
    "training_set_features_df"
   ]
  },
  {
   "cell_type": "code",
   "execution_count": null,
   "id": "884b5afc-cc73-4c59-bda0-3a80fb9feee4",
   "metadata": {},
   "outputs": [],
   "source": [
    "from sklearn.preprocessing import StandardScaler\n",
    "hierarchical_categories = [\"age_group\", \"education\", \"sex\", \"income_poverty\", \"marital_status\", \"rent_or_own\"]\n",
    "hierarchical_encoding = Pipeline(\n",
    "    steps=[\n",
    "        ('ordinal_encoder', OrdinalEncoder()),\n",
    "        ('standard_scaler', StandardScaler()),\n",
    "    ]\n",
    ")\n",
    "\n",
    "non_hierarchical_categories = [\"employment_industry\", \"employment_occupation\", \"race\", \"employment_status\", \"hhs_geo_region\", \"census_msa\"]\n",
    "non_hierarchical_encoder = OneHotEncoder(sparse=False)"
   ]
  },
  {
   "cell_type": "code",
   "execution_count": null,
   "id": "6d6f5c33-fbb1-462b-ac67-1aa3ea7b0fd7",
   "metadata": {},
   "outputs": [],
   "source": [
    "from sklearn.svm import SVC\n",
    "svclassifier = MultiOutputClassifier( SVC(random_state=31415, kernel='linear', probability=True))"
   ]
  },
  {
   "cell_type": "code",
   "execution_count": 5,
   "id": "aa788b8d-bf33-4bcb-a5da-9e62e20ac482",
   "metadata": {},
   "outputs": [],
   "source": [
    "%%time\n",
    "from sklearn.cluster import DBSCAN\n",
    "encoder = ColumnTransformer(\n",
    "    transformers = [\n",
    "        (\"non_hierarchical\", non_hierarchical_encoder, non_hierarchical_categories),\n",
    "        (\"hierarchical\", hierarchical_encoding, hierarchical_categories),\n",
    "    ], \n",
    "    remainder='passthrough'\n",
    ")\n",
    "    \n",
    "complete_pipeline = Pipeline(\n",
    "    steps=[\n",
    "        (\"encoding\", encoder),\n",
    "        (\"replace_nan\", SimpleImputer(missing_values=np.nan, strategy=\"mean\")),\n",
    "        (\"classify\", svclassifier)\n",
    "    ]\n",
    ")\n",
    "\n",
    "cross_val_score(complete_pipeline, training_set_features_df, training_set_labels_df, cv=5, scoring='roc_auc')"
   ]
  },
  {
   "cell_type": "code",
   "execution_count": null,
   "id": "e739ca19-bcb6-40e8-81fe-87b40a08403c",
   "metadata": {},
   "outputs": [],
   "source": [
    "%%time\n",
    "\n",
    "complete_pipeline.fit(training_set_features_df, training_set_labels_df)\n",
    "test_set_predictions = complete_pipeline.predict_proba(test_set_features_df)\n",
    "\n",
    "submission_df[\"h1n1_vaccine\"] = test_set_predictions[0][:, 1]\n",
    "submission_df[\"seasonal_vaccine\"] = test_set_predictions[1][:, 1]\n",
    "\n",
    "submission_df.to_csv(f\"submission_{int(datetime.now().timestamp())}.csv\", index=True)\n",
    "\n",
    "submission_df.head()"
   ]
  }
 ],
 "metadata": {
  "kernelspec": {
   "display_name": "Python 3 (ipykernel)",
   "language": "python",
   "name": "python3"
  },
  "language_info": {
   "codemirror_mode": {
    "name": "ipython",
    "version": 3
   },
   "file_extension": ".py",
   "mimetype": "text/x-python",
   "name": "python",
   "nbconvert_exporter": "python",
   "pygments_lexer": "ipython3",
   "version": "3.9.7"
  }
 },
 "nbformat": 4,
 "nbformat_minor": 5
}
